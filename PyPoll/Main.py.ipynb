{
 "cells": [
  {
   "cell_type": "code",
   "execution_count": 42,
   "id": "f032f23c",
   "metadata": {},
   "outputs": [],
   "source": [
    "import os\n",
    "import csv"
   ]
  },
  {
   "cell_type": "code",
   "execution_count": 43,
   "id": "452890f6",
   "metadata": {},
   "outputs": [],
   "source": [
    "csvpath = os.path.join('election_data.csv')"
   ]
  },
  {
   "cell_type": "code",
   "execution_count": 44,
   "id": "f19a3a75",
   "metadata": {},
   "outputs": [],
   "source": [
    "total_votes = 0 "
   ]
  },
  {
   "cell_type": "code",
   "execution_count": 45,
   "id": "1c429a54",
   "metadata": {},
   "outputs": [],
   "source": [
    "Khan_ = 0\n",
    "Otooley_ = 0\n",
    "Correy_ = 0\n",
    "Li_ = 0"
   ]
  },
  {
   "cell_type": "code",
   "execution_count": 71,
   "id": "a0aa4108",
   "metadata": {
    "scrolled": true
   },
   "outputs": [],
   "source": [
    "with open(csvpath) as csvfile:\n",
    "    csvreader = csv.reader(csvfile)\n",
    "    \n",
    "    header = next (csvreader)\n",
    "    \n",
    "    for row in csvreader:\n",
    "        total_votes = total_votes =+ 1\n",
    "        \n",
    "        candidate_name = row[2]\n",
    "        \n",
    "        county_name = row[1]\n",
    "        \n",
    "        \n",
    "    if (candidate_name == \"Khan\"):\n",
    "        Khan_ =+1\n",
    "        \n",
    "    if (candidate_name == \"Otooley\"):\n",
    "        Otooley_ =+1\n",
    "    if (candidate_name == \"Correy\"):\n",
    "        Correy_ =+1\n",
    "    \n",
    "    else: \n",
    "        Li_ =+ 1\n",
    "        \n",
    "        \n",
    "        \n",
    "        "
   ]
  },
  {
   "cell_type": "code",
   "execution_count": 72,
   "id": "974a9706",
   "metadata": {},
   "outputs": [],
   "source": [
    "winning_percentage = 0\n",
    "Percent_Khan = Khan_/total_votes\n",
    "Percent_Li = Li_/total_votes\n",
    "Percent_Coorey = Correy_/total_votes\n",
    "Percent_Otooley = Otooley_/total_votes\n",
    "        \n"
   ]
  },
  {
   "cell_type": "code",
   "execution_count": 73,
   "id": "6e86f2f2",
   "metadata": {},
   "outputs": [],
   "source": [
    "winner = max(candidate_name) \n",
    "if winner == Khan_:\n",
    "        winner_name = \"Khan\"\n",
    "if winner == Otooley_:\n",
    "        winner_name = \"Otooley\"\n",
    "if winner == Correy_:\n",
    "        winner_name = \"Correy\"\n",
    "else:\n",
    "        winner_name = \"Li_\"\n",
    "  \n",
    "        \n",
    "        \n"
   ]
  },
  {
   "cell_type": "code",
   "execution_count": 74,
   "id": "8427bd2f",
   "metadata": {},
   "outputs": [
    {
     "name": "stdout",
     "output_type": "stream",
     "text": [
      "Election Results\n",
      "Total Votes : 1\n",
      "Khan: 0.000%(0)\n",
      "Correy: 0.000%(0)\n",
      "Otooley: 0.000%(0)\n",
      "Li: 100.000%(1)\n",
      "Winner: Li_\n"
     ]
    }
   ],
   "source": [
    "print(f\"Election Results\")\n",
    "print(f\"Total Votes : {total_votes}\")\n",
    "print(f\"Khan: {Percent_Khan:.3%}({Khan_})\")\n",
    "print(f\"Correy: {Percent_Coorey:.3%}({Correy_})\")\n",
    "print(f\"Otooley: {Percent_Otooley:.3%}({Otooley_})\")\n",
    "print(f\"Li: {Percent_Li:.3%}({ Li_ })\")\n",
    "print(f\"Winner: {winner_name }\")"
   ]
  },
  {
   "cell_type": "code",
   "execution_count": 78,
   "id": "deed56be",
   "metadata": {},
   "outputs": [],
   "source": [
    "output_file = os.path.join('election_data_revised.text')\n"
   ]
  },
  {
   "cell_type": "code",
   "execution_count": 81,
   "id": "d1cd2159",
   "metadata": {},
   "outputs": [],
   "source": [
    "with open(output_file, 'w') as txtfile:\n",
    "    txtfile.write(f\"Election Results\\n\")\n",
    "    txtfile.write(f\"Total Votes : {total_votes}\\n\")\n",
    "    txtfile.write(f\"Khan: {Percent_Khan:.3%}({Khan_})\\n\")\n",
    "    txtfile.write(f\"Correy: {Percent_Coorey:.3%}({Correy_})\\n\")\n",
    "    txtfile.write(f\"Otooley: {Percent_Otooley:.3%}({Otooley_})\\n\")\n",
    "    txtfile.write(f\"Li: {Percent_Li:.3%}({ Li_ })\\n\")\n",
    "    txtfile.write(f\"Winner: {winner_name }\\n\")"
   ]
  },
  {
   "cell_type": "code",
   "execution_count": null,
   "id": "5967e3e8",
   "metadata": {},
   "outputs": [],
   "source": []
  }
 ],
 "metadata": {
  "kernelspec": {
   "display_name": "Python 3",
   "language": "python",
   "name": "python3"
  },
  "language_info": {
   "codemirror_mode": {
    "name": "ipython",
    "version": 3
   },
   "file_extension": ".py",
   "mimetype": "text/x-python",
   "name": "python",
   "nbconvert_exporter": "python",
   "pygments_lexer": "ipython3",
   "version": "3.8.8"
  }
 },
 "nbformat": 4,
 "nbformat_minor": 5
}
